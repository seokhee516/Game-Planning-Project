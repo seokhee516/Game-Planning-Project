{
  "nbformat": 4,
  "nbformat_minor": 0,
  "metadata": {
    "colab": {
      "name": "Untitled2.ipynb",
      "provenance": [],
      "authorship_tag": "ABX9TyN0Dd7mr40jRIMtTILsKleO",
      "include_colab_link": true
    },
    "kernelspec": {
      "name": "python3",
      "display_name": "Python 3"
    },
    "language_info": {
      "name": "python"
    }
  },
  "cells": [
    {
      "cell_type": "markdown",
      "metadata": {
        "id": "view-in-github",
        "colab_type": "text"
      },
      "source": [
        "<a href=\"https://colab.research.google.com/github/seokhee516/Project/blob/main/game.ipynb\" target=\"_parent\"><img src=\"https://colab.research.google.com/assets/colab-badge.svg\" alt=\"Open In Colab\"/></a>"
      ]
    },
    {
      "cell_type": "code",
      "metadata": {
        "id": "GqtXzC2j1VcA"
      },
      "source": [
        "import pandas as pd\n",
        "import numpy as np\n",
        "import matplotlib.pyplot as plt\n",
        "import seaborn as sns\n",
        "import missingno as msno\n",
        "\n",
        "import warnings\n",
        "warnings.filterwarnings(\"ignore\")\n",
        "\n",
        "%matplotlib inline"
      ],
      "execution_count": 9,
      "outputs": []
    },
    {
      "cell_type": "code",
      "metadata": {
        "id": "7aBY5jfn1tz4"
      },
      "source": [
        "df = pd.read_csv(\"vgames2.csv\")"
      ],
      "execution_count": 71,
      "outputs": []
    },
    {
      "cell_type": "code",
      "metadata": {
        "colab": {
          "base_uri": "https://localhost:8080/",
          "height": 1000
        },
        "id": "f7BmRHtg1z2T",
        "outputId": "7a2b8a81-660c-4a94-86f0-4e577aba249e"
      },
      "source": [
        "df.head(20)"
      ],
      "execution_count": 89,
      "outputs": [
        {
          "output_type": "execute_result",
          "data": {
            "text/html": [
              "<div>\n",
              "<style scoped>\n",
              "    .dataframe tbody tr th:only-of-type {\n",
              "        vertical-align: middle;\n",
              "    }\n",
              "\n",
              "    .dataframe tbody tr th {\n",
              "        vertical-align: top;\n",
              "    }\n",
              "\n",
              "    .dataframe thead th {\n",
              "        text-align: right;\n",
              "    }\n",
              "</style>\n",
              "<table border=\"1\" class=\"dataframe\">\n",
              "  <thead>\n",
              "    <tr style=\"text-align: right;\">\n",
              "      <th></th>\n",
              "      <th>Unnamed: 0</th>\n",
              "      <th>Name</th>\n",
              "      <th>Platform</th>\n",
              "      <th>Year</th>\n",
              "      <th>Genre</th>\n",
              "      <th>Publisher</th>\n",
              "      <th>NA_Sales</th>\n",
              "      <th>EU_Sales</th>\n",
              "      <th>JP_Sales</th>\n",
              "      <th>Other_Sales</th>\n",
              "    </tr>\n",
              "  </thead>\n",
              "  <tbody>\n",
              "    <tr>\n",
              "      <th>0</th>\n",
              "      <td>1</td>\n",
              "      <td>Candace Kane's Candy Factory</td>\n",
              "      <td>DS</td>\n",
              "      <td>2008.0</td>\n",
              "      <td>Action</td>\n",
              "      <td>Destineer</td>\n",
              "      <td>0.04</td>\n",
              "      <td>0</td>\n",
              "      <td>0</td>\n",
              "      <td>0</td>\n",
              "    </tr>\n",
              "    <tr>\n",
              "      <th>1</th>\n",
              "      <td>2</td>\n",
              "      <td>The Munchables</td>\n",
              "      <td>Wii</td>\n",
              "      <td>2009.0</td>\n",
              "      <td>Action</td>\n",
              "      <td>Namco Bandai Games</td>\n",
              "      <td>0.17</td>\n",
              "      <td>0</td>\n",
              "      <td>0</td>\n",
              "      <td>0.01</td>\n",
              "    </tr>\n",
              "    <tr>\n",
              "      <th>2</th>\n",
              "      <td>3</td>\n",
              "      <td>Otome wa Oanesama Boku ni Koi Shiteru Portable</td>\n",
              "      <td>PSP</td>\n",
              "      <td>2010.0</td>\n",
              "      <td>Adventure</td>\n",
              "      <td>Alchemist</td>\n",
              "      <td>0</td>\n",
              "      <td>0</td>\n",
              "      <td>0.02</td>\n",
              "      <td>0</td>\n",
              "    </tr>\n",
              "    <tr>\n",
              "      <th>3</th>\n",
              "      <td>4</td>\n",
              "      <td>Deal or No Deal: Special Edition</td>\n",
              "      <td>DS</td>\n",
              "      <td>2010.0</td>\n",
              "      <td>Misc</td>\n",
              "      <td>Zoo Games</td>\n",
              "      <td>0.04</td>\n",
              "      <td>0</td>\n",
              "      <td>0</td>\n",
              "      <td>0</td>\n",
              "    </tr>\n",
              "    <tr>\n",
              "      <th>4</th>\n",
              "      <td>5</td>\n",
              "      <td>Ben 10 Ultimate Alien: Cosmic Destruction</td>\n",
              "      <td>PS3</td>\n",
              "      <td>2010.0</td>\n",
              "      <td>Platform</td>\n",
              "      <td>D3Publisher</td>\n",
              "      <td>0.12</td>\n",
              "      <td>0.09</td>\n",
              "      <td>0</td>\n",
              "      <td>0.04</td>\n",
              "    </tr>\n",
              "    <tr>\n",
              "      <th>5</th>\n",
              "      <td>6</td>\n",
              "      <td>Power Pro Kun Pocket 8</td>\n",
              "      <td>DS</td>\n",
              "      <td>2005.0</td>\n",
              "      <td>Sports</td>\n",
              "      <td>Konami Digital Entertainment</td>\n",
              "      <td>0</td>\n",
              "      <td>0</td>\n",
              "      <td>0.14</td>\n",
              "      <td>0</td>\n",
              "    </tr>\n",
              "    <tr>\n",
              "      <th>6</th>\n",
              "      <td>7</td>\n",
              "      <td>JASF: Jane's Advanced Strike Fighters</td>\n",
              "      <td>PC</td>\n",
              "      <td>2011.0</td>\n",
              "      <td>Simulation</td>\n",
              "      <td>Deep Silver</td>\n",
              "      <td>0.02</td>\n",
              "      <td>0.01</td>\n",
              "      <td>0</td>\n",
              "      <td>0</td>\n",
              "    </tr>\n",
              "    <tr>\n",
              "      <th>7</th>\n",
              "      <td>8</td>\n",
              "      <td>Samurai Warriors: State of War</td>\n",
              "      <td>PSP</td>\n",
              "      <td>2005.0</td>\n",
              "      <td>Action</td>\n",
              "      <td>Tecmo Koei</td>\n",
              "      <td>0.07</td>\n",
              "      <td>0</td>\n",
              "      <td>0.11</td>\n",
              "      <td>0.01</td>\n",
              "    </tr>\n",
              "    <tr>\n",
              "      <th>8</th>\n",
              "      <td>9</td>\n",
              "      <td>Imabikisou</td>\n",
              "      <td>PS3</td>\n",
              "      <td>2007.0</td>\n",
              "      <td>Adventure</td>\n",
              "      <td>Sega</td>\n",
              "      <td>0</td>\n",
              "      <td>0</td>\n",
              "      <td>0.04</td>\n",
              "      <td>0</td>\n",
              "    </tr>\n",
              "    <tr>\n",
              "      <th>9</th>\n",
              "      <td>10</td>\n",
              "      <td>The Penguins of Madagascar: Dr. Blowhole Retur...</td>\n",
              "      <td>PS3</td>\n",
              "      <td>2011.0</td>\n",
              "      <td>Action</td>\n",
              "      <td>THQ</td>\n",
              "      <td>0.04</td>\n",
              "      <td>0.03</td>\n",
              "      <td>0</td>\n",
              "      <td>0.01</td>\n",
              "    </tr>\n",
              "    <tr>\n",
              "      <th>10</th>\n",
              "      <td>11</td>\n",
              "      <td>Ford Racing</td>\n",
              "      <td>PS</td>\n",
              "      <td>2001.0</td>\n",
              "      <td>Racing</td>\n",
              "      <td>Empire Interactive</td>\n",
              "      <td>480K</td>\n",
              "      <td>0.33M</td>\n",
              "      <td>0K</td>\n",
              "      <td>0.06</td>\n",
              "    </tr>\n",
              "    <tr>\n",
              "      <th>11</th>\n",
              "      <td>12</td>\n",
              "      <td>Harvest Moon: More Friends of Mineral Town</td>\n",
              "      <td>GBA</td>\n",
              "      <td>2003.0</td>\n",
              "      <td>Simulation</td>\n",
              "      <td>Ubisoft</td>\n",
              "      <td>0.14</td>\n",
              "      <td>0.05</td>\n",
              "      <td>0</td>\n",
              "      <td>0</td>\n",
              "    </tr>\n",
              "    <tr>\n",
              "      <th>12</th>\n",
              "      <td>13</td>\n",
              "      <td>Mount &amp; Blade</td>\n",
              "      <td>PC</td>\n",
              "      <td>2008.0</td>\n",
              "      <td>Role-Playing</td>\n",
              "      <td>Paradox Interactive</td>\n",
              "      <td>0</td>\n",
              "      <td>0.02</td>\n",
              "      <td>0</td>\n",
              "      <td>0</td>\n",
              "    </tr>\n",
              "    <tr>\n",
              "      <th>13</th>\n",
              "      <td>14</td>\n",
              "      <td>The Professor's Brain Trainer: Logic</td>\n",
              "      <td>DS</td>\n",
              "      <td>2005.0</td>\n",
              "      <td>Puzzle</td>\n",
              "      <td>505 Games</td>\n",
              "      <td>0.02</td>\n",
              "      <td>0</td>\n",
              "      <td>0</td>\n",
              "      <td>0</td>\n",
              "    </tr>\n",
              "    <tr>\n",
              "      <th>14</th>\n",
              "      <td>15</td>\n",
              "      <td>Zoids Dash</td>\n",
              "      <td>DS</td>\n",
              "      <td>2006.0</td>\n",
              "      <td>Role-Playing</td>\n",
              "      <td>Tomy Corporation</td>\n",
              "      <td>0</td>\n",
              "      <td>0</td>\n",
              "      <td>0.02</td>\n",
              "      <td>0</td>\n",
              "    </tr>\n",
              "    <tr>\n",
              "      <th>15</th>\n",
              "      <td>16</td>\n",
              "      <td>Mini Ninjas</td>\n",
              "      <td>PS3</td>\n",
              "      <td>2009.0</td>\n",
              "      <td>Action</td>\n",
              "      <td>Eidos Interactive</td>\n",
              "      <td>0.14</td>\n",
              "      <td>0.16</td>\n",
              "      <td>0</td>\n",
              "      <td>0.06</td>\n",
              "    </tr>\n",
              "    <tr>\n",
              "      <th>16</th>\n",
              "      <td>17</td>\n",
              "      <td>Rise of Nations</td>\n",
              "      <td>PC</td>\n",
              "      <td>2003.0</td>\n",
              "      <td>Strategy</td>\n",
              "      <td>Microsoft Game Studios</td>\n",
              "      <td>0.01</td>\n",
              "      <td>0.02</td>\n",
              "      <td>0</td>\n",
              "      <td>0.01</td>\n",
              "    </tr>\n",
              "    <tr>\n",
              "      <th>17</th>\n",
              "      <td>18</td>\n",
              "      <td>Hajime no Ippo: The Fighting! (2014)</td>\n",
              "      <td>PS3</td>\n",
              "      <td>2014.0</td>\n",
              "      <td>Sports</td>\n",
              "      <td>Namco Bandai Games</td>\n",
              "      <td>0</td>\n",
              "      <td>0</td>\n",
              "      <td>0.03</td>\n",
              "      <td>0</td>\n",
              "    </tr>\n",
              "    <tr>\n",
              "      <th>18</th>\n",
              "      <td>19</td>\n",
              "      <td>Grand Kingdom</td>\n",
              "      <td>PS4</td>\n",
              "      <td>2015.0</td>\n",
              "      <td>Role-Playing</td>\n",
              "      <td>Nippon Ichi Software</td>\n",
              "      <td>0.02</td>\n",
              "      <td>0</td>\n",
              "      <td>0.03</td>\n",
              "      <td>0</td>\n",
              "    </tr>\n",
              "    <tr>\n",
              "      <th>19</th>\n",
              "      <td>20</td>\n",
              "      <td>Tropico Reloaded</td>\n",
              "      <td>PC</td>\n",
              "      <td>2009.0</td>\n",
              "      <td>Strategy</td>\n",
              "      <td>Kalypso Media</td>\n",
              "      <td>0</td>\n",
              "      <td>0.02</td>\n",
              "      <td>0</td>\n",
              "      <td>0</td>\n",
              "    </tr>\n",
              "  </tbody>\n",
              "</table>\n",
              "</div>"
            ],
            "text/plain": [
              "    Unnamed: 0  ... Other_Sales\n",
              "0            1  ...           0\n",
              "1            2  ...        0.01\n",
              "2            3  ...           0\n",
              "3            4  ...           0\n",
              "4            5  ...        0.04\n",
              "5            6  ...           0\n",
              "6            7  ...           0\n",
              "7            8  ...        0.01\n",
              "8            9  ...           0\n",
              "9           10  ...        0.01\n",
              "10          11  ...        0.06\n",
              "11          12  ...           0\n",
              "12          13  ...           0\n",
              "13          14  ...           0\n",
              "14          15  ...           0\n",
              "15          16  ...        0.06\n",
              "16          17  ...        0.01\n",
              "17          18  ...           0\n",
              "18          19  ...           0\n",
              "19          20  ...           0\n",
              "\n",
              "[20 rows x 10 columns]"
            ]
          },
          "metadata": {},
          "execution_count": 89
        }
      ]
    },
    {
      "cell_type": "code",
      "metadata": {
        "colab": {
          "base_uri": "https://localhost:8080/"
        },
        "id": "9Vdg2Vwe66qa",
        "outputId": "d393df29-43b9-4d57-b52f-86e91be1ddde"
      },
      "source": [
        "df.dtypes"
      ],
      "execution_count": 111,
      "outputs": [
        {
          "output_type": "execute_result",
          "data": {
            "text/plain": [
              "Unnamed: 0       int64\n",
              "Name            object\n",
              "Platform        object\n",
              "Year           float64\n",
              "Genre           object\n",
              "Publisher       object\n",
              "NA_Sales       float64\n",
              "EU_Sales       float64\n",
              "JP_Sales       float64\n",
              "Other_Sales    float64\n",
              "dtype: object"
            ]
          },
          "metadata": {},
          "execution_count": 111
        }
      ]
    },
    {
      "cell_type": "markdown",
      "metadata": {
        "id": "mxleev9eXOVT"
      },
      "source": [
        "# 결측치 제거"
      ]
    },
    {
      "cell_type": "code",
      "metadata": {
        "colab": {
          "base_uri": "https://localhost:8080/"
        },
        "id": "v74j_nVV2Dyy",
        "outputId": "620038d5-b276-4b09-93f9-ceefb3239fe2"
      },
      "source": [
        "df.isnull().any().any()"
      ],
      "execution_count": 7,
      "outputs": [
        {
          "output_type": "execute_result",
          "data": {
            "text/plain": [
              "True"
            ]
          },
          "metadata": {},
          "execution_count": 7
        }
      ]
    },
    {
      "cell_type": "code",
      "metadata": {
        "colab": {
          "base_uri": "https://localhost:8080/"
        },
        "id": "JIfhjjVB2Il_",
        "outputId": "a7d4e84e-c488-4a5f-e179-903ba1a26c14"
      },
      "source": [
        "df.isnull().any()"
      ],
      "execution_count": 8,
      "outputs": [
        {
          "output_type": "execute_result",
          "data": {
            "text/plain": [
              "Unnamed: 0     False\n",
              "Name           False\n",
              "Platform       False\n",
              "Year            True\n",
              "Genre           True\n",
              "Publisher       True\n",
              "NA_Sales       False\n",
              "EU_Sales       False\n",
              "JP_Sales       False\n",
              "Other_Sales    False\n",
              "dtype: bool"
            ]
          },
          "metadata": {},
          "execution_count": 8
        }
      ]
    },
    {
      "cell_type": "code",
      "metadata": {
        "colab": {
          "base_uri": "https://localhost:8080/",
          "height": 582
        },
        "id": "nII4RiJb2hjh",
        "outputId": "c66cd25f-72e4-46d9-dd42-abb3211940a2"
      },
      "source": [
        "msno.matrix(df=df.iloc[:,:], figsize=(8,8), color=(0.8, 0.5, 0.2))"
      ],
      "execution_count": 11,
      "outputs": [
        {
          "output_type": "execute_result",
          "data": {
            "text/plain": [
              "<matplotlib.axes._subplots.AxesSubplot at 0x7ff9782ecbd0>"
            ]
          },
          "metadata": {},
          "execution_count": 11
        },
        {
          "output_type": "display_data",
          "data": {
            "image/png": "[encoded data removed]",
            "text/plain": [
              "<Figure size 576x576 with 2 Axes>"
            ]
          },
          "metadata": {
            "needs_background": "light"
          }
        }
      ]
    },
    {
      "cell_type": "code",
      "metadata": {
        "id": "29GOE32uXRJZ"
      },
      "source": [
        "df = df.dropna()"
      ],
      "execution_count": 73,
      "outputs": []
    },
    {
      "cell_type": "code",
      "metadata": {
        "colab": {
          "base_uri": "https://localhost:8080/",
          "height": 582
        },
        "id": "E4-ecEyuXcDT",
        "outputId": "5a8ae758-0878-406b-9e4a-b308a6c97290"
      },
      "source": [
        "msno.matrix(df=df.iloc[:,:], figsize=(8,8), color=(0.8, 0.5, 0.2))"
      ],
      "execution_count": 38,
      "outputs": [
        {
          "output_type": "execute_result",
          "data": {
            "text/plain": [
              "<matplotlib.axes._subplots.AxesSubplot at 0x7ff9736d8950>"
            ]
          },
          "metadata": {},
          "execution_count": 38
        },
        {
          "output_type": "display_data",
          "data": {
            "image/png": "[encoded data removed]",
            "text/plain": [
              "<Figure size 576x576 with 2 Axes>"
            ]
          },
          "metadata": {
            "needs_background": "light"
          }
        }
      ]
    },
    {
      "cell_type": "markdown",
      "metadata": {
        "id": "yebQ1JqXXq2c"
      },
      "source": [
        "# 전처리"
      ]
    },
    {
      "cell_type": "markdown",
      "metadata": {
        "id": "RF65whc4XtMA"
      },
      "source": [
        "## year"
      ]
    },
    {
      "cell_type": "code",
      "metadata": {
        "id": "7kwzqhLMcHqU"
      },
      "source": [
        "df.loc[(df['Year'].values <60),'Year'] = df.loc[(df['Year'].values <60),'Year'] + 2000"
      ],
      "execution_count": 82,
      "outputs": []
    },
    {
      "cell_type": "code",
      "metadata": {
        "id": "TeO3VNYFcvAf"
      },
      "source": [
        " df.loc[(df['Year'].values >21) & (df['Year'].values < 100),'Year'] =  df.loc[(df['Year'].values >21) & (df['Year'].values < 100),'Year'] + 1900"
      ],
      "execution_count": 81,
      "outputs": []
    },
    {
      "cell_type": "code",
      "metadata": {
        "colab": {
          "base_uri": "https://localhost:8080/"
        },
        "id": "HYYhx9y3eJ3y",
        "outputId": "22bbccbf-906c-4d7e-e2ac-ddfc537bd657"
      },
      "source": [
        "df['Year'].astype(int).unique()"
      ],
      "execution_count": 86,
      "outputs": [
        {
          "output_type": "execute_result",
          "data": {
            "text/plain": [
              "array([2008, 2009, 2010, 2005, 2011, 2007, 2001, 2003, 2006, 2014, 2015,\n",
              "       2002, 1997, 2013, 1996, 2004, 2000, 1984, 1998, 2016, 1985, 1999,\n",
              "       1995, 1993, 2012, 1987, 1982, 1994, 1990, 1992, 1991, 1983, 1988,\n",
              "       1981, 1989, 1986, 2017, 1980, 2020])"
            ]
          },
          "metadata": {},
          "execution_count": 86
        }
      ]
    },
    {
      "cell_type": "markdown",
      "metadata": {
        "id": "lJuKTGUoeVZM"
      },
      "source": [
        "## sales"
      ]
    },
    {
      "cell_type": "code",
      "metadata": {
        "id": "U-30WdLmgbrc"
      },
      "source": [
        "df.loc[df['NA_Sales'].str.contains('M'),'NA_Sales'] = df.loc[df['NA_Sales'].str.contains('M'),'NA_Sales'].replace('M','', regex=True)"
      ],
      "execution_count": 96,
      "outputs": []
    },
    {
      "cell_type": "code",
      "metadata": {
        "id": "EIaTP_fMh3H7"
      },
      "source": [
        "df.loc[df['EU_Sales'].str.contains('M'),'EU_Sales'] = df.loc[df['EU_Sales'].str.contains('M'),'EU_Sales'].replace('M','', regex=True)\n",
        "df.loc[df['JP_Sales'].str.contains('M'),'JP_Sales'] = df.loc[df['JP_Sales'].str.contains('M'),'JP_Sales'].replace('M','', regex=True)\n",
        "df.loc[df['Other_Sales'].str.contains('M'),'Other_Sales'] = df.loc[df['Other_Sales'].str.contains('M'),'Other_Sales'].replace('M','', regex=True)"
      ],
      "execution_count": 102,
      "outputs": []
    },
    {
      "cell_type": "code",
      "metadata": {
        "id": "JIxataxfiLWF"
      },
      "source": [
        "df.loc[df['NA_Sales'].str.contains('K'),'NA_Sales'] = df.loc[df['NA_Sales'].str.contains('K'),'NA_Sales'].replace('K','', regex=True).apply(pd.to_numeric) / 1000"
      ],
      "execution_count": 105,
      "outputs": []
    },
    {
      "cell_type": "code",
      "metadata": {
        "id": "7hahfM-AivmZ"
      },
      "source": [
        "df.loc[df['EU_Sales'].str.contains('K'),'EU_Sales'] = df.loc[df['EU_Sales'].str.contains('K'),'EU_Sales'].replace('K','', regex=True).apply(pd.to_numeric) / 1000\n",
        "df.loc[df['JP_Sales'].str.contains('K'),'JP_Sales'] = df.loc[df['JP_Sales'].str.contains('K'),'JP_Sales'].replace('K','', regex=True).apply(pd.to_numeric) / 1000\n",
        "df.loc[df['Other_Sales'].str.contains('K'),'Other_Sales'] = df.loc[df['Other_Sales'].str.contains('K'),'Other_Sales'].replace('K','', regex=True).apply(pd.to_numeric) / 1000"
      ],
      "execution_count": 103,
      "outputs": []
    },
    {
      "cell_type": "code",
      "metadata": {
        "id": "l__VrafVgY18"
      },
      "source": [
        "df[['NA_Sales', 'EU_Sales', 'JP_Sales', 'Other_Sales']] = df[['NA_Sales', 'EU_Sales', 'JP_Sales', 'Other_Sales']].apply(pd.to_numeric)"
      ],
      "execution_count": 110,
      "outputs": []
    },
    {
      "cell_type": "markdown",
      "metadata": {
        "id": "HHjqUNCQjkqU"
      },
      "source": [
        "# EDA"
      ]
    },
    {
      "cell_type": "code",
      "metadata": {
        "colab": {
          "base_uri": "https://localhost:8080/"
        },
        "id": "Jif0OzPLT7RZ",
        "outputId": "d16a1971-1156-40ab-fffd-5cc43e84fb57"
      },
      "source": [
        "df['Platform'].unique()"
      ],
      "execution_count": 27,
      "outputs": [
        {
          "output_type": "execute_result",
          "data": {
            "text/plain": [
              "array(['DS', 'Wii', 'PSP', 'PS3', 'PC', 'PS', 'GBA', 'PS4', 'PS2', 'XB',\n",
              "       'X360', 'GC', '3DS', '2600', 'SAT', 'GB', 'NES', 'DC', 'N64',\n",
              "       'XOne', 'SNES', 'WiiU', 'PSV', 'GEN', 'SCD', 'WS', 'NG', 'TG16',\n",
              "       '3DO', 'GG', 'PCFX'], dtype=object)"
            ]
          },
          "metadata": {},
          "execution_count": 27
        }
      ]
    },
    {
      "cell_type": "code",
      "metadata": {
        "colab": {
          "base_uri": "https://localhost:8080/"
        },
        "id": "cEfUiQIST0v6",
        "outputId": "5b921d41-12c9-4b14-b0f9-1cdc6f83dd96"
      },
      "source": [
        "df['Genre'].unique()"
      ],
      "execution_count": 28,
      "outputs": [
        {
          "output_type": "execute_result",
          "data": {
            "text/plain": [
              "array(['Action', 'Adventure', 'Misc', 'Platform', 'Sports', 'Simulation',\n",
              "       'Racing', 'Role-Playing', 'Puzzle', 'Strategy', 'Fighting',\n",
              "       'Shooter', nan], dtype=object)"
            ]
          },
          "metadata": {},
          "execution_count": 28
        }
      ]
    },
    {
      "cell_type": "code",
      "metadata": {
        "colab": {
          "base_uri": "https://localhost:8080/"
        },
        "id": "_GS1ckWWUMFG",
        "outputId": "e202f994-4815-43fa-e93c-1f2b2e5c23ae"
      },
      "source": [
        "df['Publisher'].unique()"
      ],
      "execution_count": 29,
      "outputs": [
        {
          "output_type": "execute_result",
          "data": {
            "text/plain": [
              "array(['Destineer', 'Namco Bandai Games', 'Alchemist', 'Zoo Games',\n",
              "       'D3Publisher', 'Konami Digital Entertainment', 'Deep Silver',\n",
              "       'Tecmo Koei', 'Sega', 'THQ', 'Empire Interactive', 'Ubisoft',\n",
              "       'Paradox Interactive', '505 Games', 'Tomy Corporation',\n",
              "       'Eidos Interactive', 'Microsoft Game Studios',\n",
              "       'Nippon Ichi Software', 'Kalypso Media', 'Electronic Arts',\n",
              "       'Sony Computer Entertainment', 'Activision',\n",
              "       'Tru Blu Entertainment', 'Warner Bros. Interactive Entertainment',\n",
              "       'Midway Games', 'Mindscape', 'Wargaming.net', 'Capcom',\n",
              "       'Acclaim Entertainment', 'Unknown', 'Nintendo',\n",
              "       'Disney Interactive Studios', 'Crave Entertainment', 'Sunflowers',\n",
              "       'Arc System Works', 'Milestone S.r.l', 'Kamui', 'Hudson Soft',\n",
              "       'Square Enix', 'Focus Home Interactive', 'Take-Two Interactive',\n",
              "       'Game Factory', 'Takara Tomy', 'SquareSoft', 'Global Star',\n",
              "       'Infogrames', 'GT Interactive', 'Storm City Games',\n",
              "       'Gathering of Developers', 'Giza10', 'Imagineer', 'Atari',\n",
              "       'SouthPeak Games', 'Graffiti', 'Banpresto', 'Gust',\n",
              "       'From Software', 'TDK Mediactive', '5pb', 'Nobilis', 'Taito',\n",
              "       'Foreign Media Games', 'Nippon Columbia', 'Vivendi Games',\n",
              "       'Codemasters', 'Bethesda Softworks', '3DO', 'Enix Corporation',\n",
              "       'Ignition Entertainment', 'ASCII Media Works',\n",
              "       'Virgin Interactive', 'Easy Interactive', 'SCi', 'Idea Factory',\n",
              "       'Jaleco', 'Majesco Entertainment', 'ArtDink', 'System Soft',\n",
              "       'CBS Electronics', 'Kaga Create', 'Phantagram',\n",
              "       'Zoo Digital Publishing', 'BAM! Entertainment',\n",
              "       'Jester Interactive', 'Quinrose', 'Game Arts', 'Headup Games',\n",
              "       'Rising Star Games', 'TGL', 'Gremlin Interactive Ltd', nan,\n",
              "       'Avanquest', '10TACLE Studios', 'Activision Value', 'responDESIGN',\n",
              "       'Rage Software', 'Little Orbit', 'Marvelous Interactive',\n",
              "       'Marvelous Entertainment', 'Kadokawa Shoten', 'Compile Heart',\n",
              "       'Takara', 'Seta Corporation', 'Comfort', 'LucasArts',\n",
              "       'NEC Interchannel', 'SNK Playmore', 'Russel', 'FuRyu',\n",
              "       'dramatic create', 'Koch Media', 'LSP Games', 'Microids',\n",
              "       'Psygnosis', 'Culture Brain', 'Saurus', 'Hackberry',\n",
              "       'FuRyu Corporation', 'Midas Interactive Entertainment',\n",
              "       'Office Create', 'Media Factory', 'Asylum Entertainment',\n",
              "       'ValuSoft', 'Universal Interactive', 'bitComposer Games',\n",
              "       'Rocket Company', 'Atlus', 'Number None', 'Genki', 'Compile',\n",
              "       'Telltale Games', 'UFO Interactive', 'Magix', 'NewKidCo', 'Coleco',\n",
              "       'TopWare Interactive', 'Harmonix Music Systems', 'Sting',\n",
              "       'Hudson Entertainment', 'Ghostlight', 'Sunsoft', 'Spike',\n",
              "       'Home Entertainment Suppliers', 'Screenlife', 'Moss',\n",
              "       'Ubisoft Annecy', 'Oxygen Interactive', 'Kemco', 'P2 Games',\n",
              "       'Datam Polystar', 'Palcom', 'Enterbrain', 'Starfish',\n",
              "       '20th Century Fox Video Games', 'Xplosiv', 'Scholastic Inc.',\n",
              "       'Phenomedia', 'GOA', 'Yamasa Entertainment', 'MTV Games', 'PQube',\n",
              "       'Aqua Plus', 'Daedalic', 'ASCII Entertainment', 'Nordic Games',\n",
              "       'Ongakukan', 'Interchannel-Holon', 'Avanquest Software',\n",
              "       'Black Bean Games', 'DTP Entertainment', 'NEC',\n",
              "       'Black Label Games', 'O3 Entertainment', 'Micro Cabin',\n",
              "       'Marvel Entertainment', 'Telegames', 'Hasbro Interactive',\n",
              "       'Tigervision', 'Funsta', 'Kadokawa Games', 'Success', 'Level 5',\n",
              "       'Sammy Corporation', 'Axela', 'Milestone S.r.l.',\n",
              "       'Agatsuma Entertainment', 'Vap', 'System 3 Arcade Software',\n",
              "       'Broccoli', 'Media Rings', 'Interplay', 'Swing! Entertainment',\n",
              "       'Fox Interactive', 'Aques', 'DreamCatcher Interactive',\n",
              "       'General Entertainment', 'Sony Online Entertainment', 'Shogakukan',\n",
              "       'Rebellion', 'Starpath Corp.', 'Square', 'Quintet', 'Touchstone',\n",
              "       'Mumbo Jumbo', 'Epoch', 'Parker Bros.', 'TDK Core',\n",
              "       'Mattel Interactive', 'Prototype', 'Merscom LLC',\n",
              "       'Insomniac Games', 'Human Entertainment', 'Nichibutsu',\n",
              "       'Playlogic Game Factory', 'Ocean',\n",
              "       'Cloud Imperium Games Corporation', 'Funcom',\n",
              "       'Hamster Corporation', 'Idea Factory International',\n",
              "       'Destination Software, Inc', 'DHM Interactive', 'Myelin Media',\n",
              "       'SNK', 'Licensed 4U', 'GSP', 'City Interactive', 'PopCap Games',\n",
              "       'AQ Interactive', 'Victor Interactive', 'Titus',\n",
              "       'Excalibur Publishing', 'Popcorn Arcade', 'Valcon Games', 'Mojang',\n",
              "       'Metro 3D', 'Vatical Entertainment', 'ChunSoft', 'Astragon',\n",
              "       'CyberFront', 'Big Ben Interactive', 'Big Fish Games',\n",
              "       'Conspiracy Entertainment', 'Naxat Soft', 'Paon Corporation',\n",
              "       'Bigben Interactive', 'MediaQuest', 'Blast! Entertainment Ltd',\n",
              "       'Data Design Interactive', 'Nexon', 'Neko Entertainment', 'iWin',\n",
              "       'Introversion Software', 'GameMill Entertainment', 'Play It',\n",
              "       'Asgard', 'Pioneer LDC', 'ASC Games', '989 Studios', 'MTO',\n",
              "       'Mercury Games', 'Navarre Corp', 'Boost On', 'Maxis', 'Rondomedia',\n",
              "       'MC2 Entertainment', 'CDV Software Entertainment', 'Funbox Media',\n",
              "       'Angel Studios', 'Xseed Games', 'Performance Designed Products',\n",
              "       'Sony Computer Entertainment Europe', 'Wanadoo',\n",
              "       'Lexicon Entertainment', 'Aruze Corp', 'Virtual Play Games',\n",
              "       'Seventh Chord', 'JoWood Productions', 'Pinnacle',\n",
              "       'Iceberg Interactive', 'Agetec', 'Mastertronic', 'Vic Tokai',\n",
              "       'ITT Family Games', 'Gameloft', 'Sony Music Entertainment',\n",
              "       'Mastiff', 'imageepoch Inc.', 'Arena Entertainment', 'TOHO',\n",
              "       'Bomb', 'Interchannel', 'LEGO Media', 'Grand Prix Games', 'Mitsui',\n",
              "       'Zushi Games', 'O-Games', 'NCSoft', 'Arika', 'CPG Products',\n",
              "       'Slitherine Software', 'Alternative Software', 'Data Age',\n",
              "       'Plenty', 'PlayV', 'Karin Entertainment', 'Knowledge Adventure',\n",
              "       'Valve Software', 'Gotham Games', 'Genterprise', 'G.Rev',\n",
              "       'Kids Station', 'Asmik Ace Entertainment',\n",
              "       'Monte Christo Multimedia', 'Cave', 'Milestone', 'Views',\n",
              "       'Benesse', 'Encore', 'XS Games', 'Avalon Interactive',\n",
              "       'EON Digital Entertainment', 'Mentor Interactive',\n",
              "       'Irem Software Engineering', 'Brash Entertainment',\n",
              "       'Flashpoint Games', 'Imagic', 'KID', 'Media Works', 'Altron',\n",
              "       'Mirai Shounen', 'SSI', 'Strategy First',\n",
              "       'Ascaron Entertainment GmbH', 'Natsume', 'Warashi', 'IE Institute',\n",
              "       'Warp', 'Mad Catz', 'NCS', 'The Learning Company', 'Sweets',\n",
              "       'Game Life', 'HMH Interactive', 'Xicat Interactive',\n",
              "       'Rebellion Developments', 'Yeti', 'Ackkstudios',\n",
              "       'CokeM Interactive', 'Evolved Games', 'Video System',\n",
              "       'Aksys Games', 'PM Studios', 'Coconuts Japan',\n",
              "       'Sunrise Interactive', 'Bohemia Interactive', \"Yuke's\", 'Tivola',\n",
              "       'GungHo', 'Tradewest', 'Tommo', 'GN Software', 'Gaga', 'Aspyr',\n",
              "       'Trion Worlds', 'Revolution (Japan)', 'Misawa', 'Pack-In-Video',\n",
              "       'Hect', 'TalonSoft', 'Aerosoft', 'RTL', 'Minato Station',\n",
              "       'Activision Blizzard', 'Playmates', 'CTO SpA',\n",
              "       'BMG Interactive Entertainment', 'Media Entertainment',\n",
              "       'Hip Interactive', 'Acquire', 'Jack of All Games',\n",
              "       'The Adventure Company', 'Epic Games', 'DSI Games', 'Fortyfive',\n",
              "       'Indie Games', 'NovaLogic', 'Happinet', 'Reef Entertainment',\n",
              "       'Masque Publishing', 'Imadio', 'Microprose', 'Falcom Corporation',\n",
              "       'Square EA', 'Red Storm Entertainment', 'Dusenberry Martin Racing',\n",
              "       'Sonnet', 'Tripwire Interactive', 'RED Entertainment',\n",
              "       'Global A Entertainment', 'Athena', 'Groove Games',\n",
              "       'Mud Duck Productions', 'Ertain', 'System 3', 'Marvelous Games',\n",
              "       'Gamecock', 'Panther Software', 'Playmore', 'Vir2L Studios',\n",
              "       'mixi, Inc', 'HAL Laboratory', 'BushiRoad', 'Jorudan', 'JVC',\n",
              "       'Alawar Entertainment', 'Inti Creates', 'Laguna', 'NetRevo',\n",
              "       'Daedalic Entertainment', 'Time Warner Interactive',\n",
              "       'Slightly Mad Studios', 'Max Five', 'Devolver Digital', 'CCP',\n",
              "       'Flight-Plan', 'Quelle', 'Dorart', 'ESP', 'Answer Software',\n",
              "       'Phoenix Games', 'Yumedia', 'Elite', 'Elf', 'Nordcurrent', 'New',\n",
              "       'Paon', 'Nihon Falcom Corporation', 'Commseed', 'BPS', 'Tryfirst',\n",
              "       'FunSoft', 'Legacy Interactive', 'Princess Soft',\n",
              "       'Graphsim Entertainment', 'Creative Core',\n",
              "       'Electronic Arts Victor', 'Mamba Games', 'Her Interactive',\n",
              "       'Maximum Family Games', 'DreamWorks Interactive', 'Detn8 Games',\n",
              "       'Universal Gamex', 'Hearty Robin', 'GameTek', 'RedOctane',\n",
              "       'U.S. Gold', 'Wizard Video Games',\n",
              "       'Sony Computer Entertainment America', 'Telstar',\n",
              "       'Yacht Club Games', 'PopTop Software', 'Experience Inc.',\n",
              "       'Michaelsoft', 'Gakken', 'T&E Soft', 'Origin Systems',\n",
              "       'Gainax Network Systems', 'inXile Entertainment',\n",
              "       'Focus Multimedia', 'SCS Software', 'Hello Games',\n",
              "       'Essential Games', 'Xing Entertainment', 'Riverhillsoft',\n",
              "       '1C Company', 'Data East', 'Mycom', '7G//AMES', 'DigiCube', 'Fuji',\n",
              "       'Simon & Schuster Interactive', 'Pow',\n",
              "       'Pacific Century Cyber Works', 'Extreme Entertainment Group',\n",
              "       'Image Epoch', 'Core Design Ltd.', 'Otomate', 'Piacci', 'ASK',\n",
              "       'WayForward Technologies', 'Pack In Soft', 'Red Orb', 'Takuyo',\n",
              "       'UIG Entertainment', 'Crystal Dynamics', 'Blue Byte', 'Rain Games',\n",
              "       'Gamebridge', 'New World Computing', 'fonfun', 'Berkeley',\n",
              "       'Interworks Unlimited, Inc.', 'Societa', 'On Demand',\n",
              "       'Crimson Cow', 'Griffin International', 'Visco', 'Syscom',\n",
              "       'King Records', 'Tetris Online', 'EA Games', 'Locus',\n",
              "       'Paradox Development', 'Nippon Telenet', 'Accolade', 'id Software',\n",
              "       'HuneX', 'Interplay Productions', 'Evolution Games',\n",
              "       'Kokopeli Digital Studios', 'Ascaron Entertainment', '989 Sports',\n",
              "       'Illusion Softworks', 'Kando Games', 'Pony Canyon', 'Intergrow',\n",
              "       'Glams', 'Nitroplus', 'Zenrin', 'Team17 Software', 'Fields',\n",
              "       'Havas Interactive', '49Games', 'Alvion', 'Quest', 'Imageworks',\n",
              "       'Stainless Games', 'Daito', 'Enjoy Gaming ltd.', 'Aria',\n",
              "       'Kool Kizz', 'Sold Out', 'Magical Company', 'Imax', 'Summitsoft',\n",
              "       'Cygames', 'Men-A-Vision', 'Adeline Software',\n",
              "       'Revolution Software', 'Valve', 'Codemasters Online', 'TYO',\n",
              "       'Phantom EFX', 'Liquid Games', 'American Softworks', 'SPS',\n",
              "       'Sears', 'Edia', 'Nippon Amuse', 'Asmik Corp', 'MLB.com',\n",
              "       'White Park Bay Software', 'Abylight', 'Ecole', 'TechnoSoft',\n",
              "       'Culture Publishers', 'Ivolgamus', '2D Boy',\n",
              "       'Technos Japan Corporation', 'Giga', 'Westwood Studios',\n",
              "       'UEP Systems', 'KSS', 'Type-Moon', 'Ultravision',\n",
              "       'Lighthouse Interactive', 'NDA Productions', 'Mystique',\n",
              "       'Just Flight'], dtype=object)"
            ]
          },
          "metadata": {},
          "execution_count": 29
        }
      ]
    },
    {
      "cell_type": "markdown",
      "metadata": {
        "id": "dnMIlkXNj6s-"
      },
      "source": [
        "## 1.지역에 따라서 선호하는 게임 장르가 다를까"
      ]
    },
    {
      "cell_type": "code",
      "metadata": {
        "colab": {
          "base_uri": "https://localhost:8080/",
          "height": 350
        },
        "id": "YOVeU5cV6xie",
        "outputId": "890822ad-b03a-4d8d-f74c-ab94336739b7"
      },
      "source": [
        "df[['Genre','NA_Sales']].groupby(['Genre'], as_index=True).mean().sort_values(by='NA_Sales', ascending=False).plot.bar()"
      ],
      "execution_count": 118,
      "outputs": [
        {
          "output_type": "execute_result",
          "data": {
            "text/plain": [
              "<matplotlib.axes._subplots.AxesSubplot at 0x7ff97337e1d0>"
            ]
          },
          "metadata": {},
          "execution_count": 118
        },
        {
          "output_type": "display_data",
          "data": {
            "image/png": "[encoded data removed]",
            "text/plain": [
              "<Figure size 432x288 with 1 Axes>"
            ]
          },
          "metadata": {
            "needs_background": "light"
          }
        }
      ]
    },
    {
      "cell_type": "code",
      "metadata": {
        "colab": {
          "base_uri": "https://localhost:8080/",
          "height": 350
        },
        "id": "oIaPNGVSnYc2",
        "outputId": "dfadcaf9-65e3-47b0-87f5-b4c42bd1c376"
      },
      "source": [
        "df[['Genre','EU_Sales']].groupby(['Genre'], as_index=True).mean().sort_values(by='EU_Sales', ascending=False).plot.bar()"
      ],
      "execution_count": 119,
      "outputs": [
        {
          "output_type": "execute_result",
          "data": {
            "text/plain": [
              "<matplotlib.axes._subplots.AxesSubplot at 0x7ff9732ce5d0>"
            ]
          },
          "metadata": {},
          "execution_count": 119
        },
        {
          "output_type": "display_data",
          "data": {
            "image/png": "[encoded data removed]",
            "text/plain": [
              "<Figure size 432x288 with 1 Axes>"
            ]
          },
          "metadata": {
            "needs_background": "light"
          }
        }
      ]
    },
    {
      "cell_type": "code",
      "metadata": {
        "colab": {
          "base_uri": "https://localhost:8080/",
          "height": 350
        },
        "id": "61Xtt2WRnsdL",
        "outputId": "43493bcc-ac17-4e4d-c45a-8d866be81c87"
      },
      "source": [
        "df[['Genre','JP_Sales']].groupby(['Genre'], as_index=True).mean().sort_values(by='JP_Sales', ascending=False).plot.bar()"
      ],
      "execution_count": 120,
      "outputs": [
        {
          "output_type": "execute_result",
          "data": {
            "text/plain": [
              "<matplotlib.axes._subplots.AxesSubplot at 0x7ff9731ef490>"
            ]
          },
          "metadata": {},
          "execution_count": 120
        },
        {
          "output_type": "display_data",
          "data": {
            "image/png": "[encoded data removed]",
            "text/plain": [
              "<Figure size 432x288 with 1 Axes>"
            ]
          },
          "metadata": {
            "needs_background": "light"
          }
        }
      ]
    },
    {
      "cell_type": "code",
      "metadata": {
        "colab": {
          "base_uri": "https://localhost:8080/",
          "height": 350
        },
        "id": "8WTjgT_Ynv5G",
        "outputId": "f6b628f0-463d-48b9-d04f-f4b068539b9d"
      },
      "source": [
        "df[['Genre','Other_Sales']].groupby(['Genre'], as_index=True).mean().sort_values(by='Other_Sales', ascending=False).plot.bar()"
      ],
      "execution_count": 121,
      "outputs": [
        {
          "output_type": "execute_result",
          "data": {
            "text/plain": [
              "<matplotlib.axes._subplots.AxesSubplot at 0x7ff9732561d0>"
            ]
          },
          "metadata": {},
          "execution_count": 121
        },
        {
          "output_type": "display_data",
          "data": {
            "image/png": "[encoded data removed]",
            "text/plain": [
              "<Figure size 432x288 with 1 Axes>"
            ]
          },
          "metadata": {
            "needs_background": "light"
          }
        }
      ]
    },
    {
      "cell_type": "code",
      "metadata": {
        "id": "8cvrUNpKn6rH"
      },
      "source": [
        ""
      ],
      "execution_count": null,
      "outputs": []
    }
  ]
}