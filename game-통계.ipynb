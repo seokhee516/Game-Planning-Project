{
  "nbformat": 4,
  "nbformat_minor": 0,
  "metadata": {
    "colab": {
      "name": "Untitled0.ipynb",
      "provenance": [],
      "authorship_tag": "ABX9TyODF5vnkm9Bmx7EBbhfeOrO",
      "include_colab_link": true
    },
    "kernelspec": {
      "name": "python3",
      "display_name": "Python 3"
    },
    "language_info": {
      "name": "python"
    }
  },
  "cells": [
    {
      "cell_type": "markdown",
      "metadata": {
        "id": "view-in-github",
        "colab_type": "text"
      },
      "source": [
        "<a href=\"https://colab.research.google.com/github/seokhee516/Project/blob/main/game-%ED%86%B5%EA%B3%84.ipynb\" target=\"_parent\"><img src=\"https://colab.research.google.com/assets/colab-badge.svg\" alt=\"Open In Colab\"/></a>"
      ]
    },
    {
      "cell_type": "markdown",
      "metadata": {
        "id": "xxRAIyEqGBWP"
      },
      "source": [
        "# two sample T-test 예제"
      ]
    },
    {
      "cell_type": "code",
      "metadata": {
        "id": "bddhWhmp5dKe"
      },
      "source": [
        "# 필요한 패키지 import\n",
        "import pandas as pd\n",
        "import numpy as np\n",
        "import seaborn as sns\n",
        "from scipy import stats\n",
        "\n",
        "# 데이터셋 불러오기\n",
        "df = sns.load_dataset(\"penguins\")\n",
        "df = df.dropna()\n",
        "\n",
        "# 데이터 프레임 column명 수정\n",
        "df = df.rename(columns={\"species\":\"species\", \"island\":\"island\", \"bill_length_mm\":\"bill_length\", \"bill_depth_mm\":\"bill_depth\",\n",
        "                        \"flipper_length_mm\":\"flipper_length\", \"body_mass_g\":\"body_mass\", \"sex\":\"sex\"})"
      ],
      "execution_count": 1,
      "outputs": []
    },
    {
      "cell_type": "code",
      "metadata": {
        "colab": {
          "base_uri": "https://localhost:8080/",
          "height": 408
        },
        "id": "R20FA0CL-3Rn",
        "outputId": "233d5758-6546-413e-8251-cbe07a8a52b0"
      },
      "source": [
        "df"
      ],
      "execution_count": 2,
      "outputs": [
        {
          "output_type": "execute_result",
          "data": {
            "text/html": [
              "<div>\n",
              "<style scoped>\n",
              "    .dataframe tbody tr th:only-of-type {\n",
              "        vertical-align: middle;\n",
              "    }\n",
              "\n",
              "    .dataframe tbody tr th {\n",
              "        vertical-align: top;\n",
              "    }\n",
              "\n",
              "    .dataframe thead th {\n",
              "        text-align: right;\n",
              "    }\n",
              "</style>\n",
              "<table border=\"1\" class=\"dataframe\">\n",
              "  <thead>\n",
              "    <tr style=\"text-align: right;\">\n",
              "      <th></th>\n",
              "      <th>species</th>\n",
              "      <th>island</th>\n",
              "      <th>bill_length</th>\n",
              "      <th>bill_depth</th>\n",
              "      <th>flipper_length</th>\n",
              "      <th>body_mass</th>\n",
              "      <th>sex</th>\n",
              "    </tr>\n",
              "  </thead>\n",
              "  <tbody>\n",
              "    <tr>\n",
              "      <th>0</th>\n",
              "      <td>Adelie</td>\n",
              "      <td>Torgersen</td>\n",
              "      <td>39.1</td>\n",
              "      <td>18.7</td>\n",
              "      <td>181.0</td>\n",
              "      <td>3750.0</td>\n",
              "      <td>Male</td>\n",
              "    </tr>\n",
              "    <tr>\n",
              "      <th>1</th>\n",
              "      <td>Adelie</td>\n",
              "      <td>Torgersen</td>\n",
              "      <td>39.5</td>\n",
              "      <td>17.4</td>\n",
              "      <td>186.0</td>\n",
              "      <td>3800.0</td>\n",
              "      <td>Female</td>\n",
              "    </tr>\n",
              "    <tr>\n",
              "      <th>2</th>\n",
              "      <td>Adelie</td>\n",
              "      <td>Torgersen</td>\n",
              "      <td>40.3</td>\n",
              "      <td>18.0</td>\n",
              "      <td>195.0</td>\n",
              "      <td>3250.0</td>\n",
              "      <td>Female</td>\n",
              "    </tr>\n",
              "    <tr>\n",
              "      <th>4</th>\n",
              "      <td>Adelie</td>\n",
              "      <td>Torgersen</td>\n",
              "      <td>36.7</td>\n",
              "      <td>19.3</td>\n",
              "      <td>193.0</td>\n",
              "      <td>3450.0</td>\n",
              "      <td>Female</td>\n",
              "    </tr>\n",
              "    <tr>\n",
              "      <th>5</th>\n",
              "      <td>Adelie</td>\n",
              "      <td>Torgersen</td>\n",
              "      <td>39.3</td>\n",
              "      <td>20.6</td>\n",
              "      <td>190.0</td>\n",
              "      <td>3650.0</td>\n",
              "      <td>Male</td>\n",
              "    </tr>\n",
              "    <tr>\n",
              "      <th>...</th>\n",
              "      <td>...</td>\n",
              "      <td>...</td>\n",
              "      <td>...</td>\n",
              "      <td>...</td>\n",
              "      <td>...</td>\n",
              "      <td>...</td>\n",
              "      <td>...</td>\n",
              "    </tr>\n",
              "    <tr>\n",
              "      <th>338</th>\n",
              "      <td>Gentoo</td>\n",
              "      <td>Biscoe</td>\n",
              "      <td>47.2</td>\n",
              "      <td>13.7</td>\n",
              "      <td>214.0</td>\n",
              "      <td>4925.0</td>\n",
              "      <td>Female</td>\n",
              "    </tr>\n",
              "    <tr>\n",
              "      <th>340</th>\n",
              "      <td>Gentoo</td>\n",
              "      <td>Biscoe</td>\n",
              "      <td>46.8</td>\n",
              "      <td>14.3</td>\n",
              "      <td>215.0</td>\n",
              "      <td>4850.0</td>\n",
              "      <td>Female</td>\n",
              "    </tr>\n",
              "    <tr>\n",
              "      <th>341</th>\n",
              "      <td>Gentoo</td>\n",
              "      <td>Biscoe</td>\n",
              "      <td>50.4</td>\n",
              "      <td>15.7</td>\n",
              "      <td>222.0</td>\n",
              "      <td>5750.0</td>\n",
              "      <td>Male</td>\n",
              "    </tr>\n",
              "    <tr>\n",
              "      <th>342</th>\n",
              "      <td>Gentoo</td>\n",
              "      <td>Biscoe</td>\n",
              "      <td>45.2</td>\n",
              "      <td>14.8</td>\n",
              "      <td>212.0</td>\n",
              "      <td>5200.0</td>\n",
              "      <td>Female</td>\n",
              "    </tr>\n",
              "    <tr>\n",
              "      <th>343</th>\n",
              "      <td>Gentoo</td>\n",
              "      <td>Biscoe</td>\n",
              "      <td>49.9</td>\n",
              "      <td>16.1</td>\n",
              "      <td>213.0</td>\n",
              "      <td>5400.0</td>\n",
              "      <td>Male</td>\n",
              "    </tr>\n",
              "  </tbody>\n",
              "</table>\n",
              "<p>333 rows × 7 columns</p>\n",
              "</div>"
            ],
            "text/plain": [
              "    species     island  bill_length  ...  flipper_length  body_mass     sex\n",
              "0    Adelie  Torgersen         39.1  ...           181.0     3750.0    Male\n",
              "1    Adelie  Torgersen         39.5  ...           186.0     3800.0  Female\n",
              "2    Adelie  Torgersen         40.3  ...           195.0     3250.0  Female\n",
              "4    Adelie  Torgersen         36.7  ...           193.0     3450.0  Female\n",
              "5    Adelie  Torgersen         39.3  ...           190.0     3650.0    Male\n",
              "..      ...        ...          ...  ...             ...        ...     ...\n",
              "338  Gentoo     Biscoe         47.2  ...           214.0     4925.0  Female\n",
              "340  Gentoo     Biscoe         46.8  ...           215.0     4850.0  Female\n",
              "341  Gentoo     Biscoe         50.4  ...           222.0     5750.0    Male\n",
              "342  Gentoo     Biscoe         45.2  ...           212.0     5200.0  Female\n",
              "343  Gentoo     Biscoe         49.9  ...           213.0     5400.0    Male\n",
              "\n",
              "[333 rows x 7 columns]"
            ]
          },
          "metadata": {},
          "execution_count": 2
        }
      ]
    },
    {
      "cell_type": "markdown",
      "metadata": {
        "id": "T9BkNGNP-9OW"
      },
      "source": [
        "two sample T-test"
      ]
    },
    {
      "cell_type": "markdown",
      "metadata": {
        "id": "c1asBK6NEMOD"
      },
      "source": [
        "귀무가설: Adelie 펭귄의 평균 부리 깊이와 Gentoo 펭귄의 평균 부리 깊이는 같다.  \n",
        "대립가설: Adelie 펭귄의 평균 부리 깊이와 Gentoo 펭귄의 평균 부리 깊이는 같지 않다.  \n",
        "신뢰도: 95%\n"
      ]
    },
    {
      "cell_type": "code",
      "metadata": {
        "colab": {
          "base_uri": "https://localhost:8080/"
        },
        "id": "E98yNz95-5yg",
        "outputId": "91491590-c016-4c41-ca79-7e0ebf99e0ee"
      },
      "source": [
        "adelie = df[df[\"species\"] == \"Adelie\"][\"bill_depth\"]\n",
        "gentoo = df[df[\"species\"] == \"Gentoo\"][\"bill_depth\"]\n",
        "stats.ttest_ind(adelie, gentoo)"
      ],
      "execution_count": 3,
      "outputs": [
        {
          "output_type": "execute_result",
          "data": {
            "text/plain": [
              "Ttest_indResult(statistic=24.208855744860315, pvalue=6.91055572279657e-69)"
            ]
          },
          "metadata": {},
          "execution_count": 3
        }
      ]
    },
    {
      "cell_type": "markdown",
      "metadata": {
        "id": "fFxE-rBOEZXr"
      },
      "source": [
        " p-value가 0.05보다 작기 때문에 귀무가설을 기각하고 대립가설을 채택한다.  \n",
        "  따라서 Adelie 펭귄의 평균 부리 깊이와 Gentoo 펭귄의 평균 부리 깊이는 같지 않다."
      ]
    },
    {
      "cell_type": "markdown",
      "metadata": {
        "id": "c_9NysyLEtBD"
      },
      "source": [
        "# two sample T-test 적용"
      ]
    },
    {
      "cell_type": "code",
      "metadata": {
        "colab": {
          "base_uri": "https://localhost:8080/",
          "height": 206
        },
        "id": "2BNU4nNsFL9H",
        "outputId": "54e0ded1-7b5e-43e4-9404-df6adc87c9a8"
      },
      "source": [
        "df.head()"
      ],
      "execution_count": null,
      "outputs": [
        {
          "output_type": "execute_result",
          "data": {
            "text/html": [
              "<div>\n",
              "<style scoped>\n",
              "    .dataframe tbody tr th:only-of-type {\n",
              "        vertical-align: middle;\n",
              "    }\n",
              "\n",
              "    .dataframe tbody tr th {\n",
              "        vertical-align: top;\n",
              "    }\n",
              "\n",
              "    .dataframe thead th {\n",
              "        text-align: right;\n",
              "    }\n",
              "</style>\n",
              "<table border=\"1\" class=\"dataframe\">\n",
              "  <thead>\n",
              "    <tr style=\"text-align: right;\">\n",
              "      <th></th>\n",
              "      <th>Name</th>\n",
              "      <th>Platform</th>\n",
              "      <th>Year</th>\n",
              "      <th>Genre</th>\n",
              "      <th>Publisher</th>\n",
              "      <th>NA_Sales</th>\n",
              "      <th>EU_Sales</th>\n",
              "      <th>JP_Sales</th>\n",
              "      <th>Other_Sales</th>\n",
              "    </tr>\n",
              "  </thead>\n",
              "  <tbody>\n",
              "    <tr>\n",
              "      <th>0</th>\n",
              "      <td>Candace Kane's Candy Factory</td>\n",
              "      <td>DS</td>\n",
              "      <td>2008.0</td>\n",
              "      <td>Action</td>\n",
              "      <td>Destineer</td>\n",
              "      <td>40000.0</td>\n",
              "      <td>0.0</td>\n",
              "      <td>0.0</td>\n",
              "      <td>0.0</td>\n",
              "    </tr>\n",
              "    <tr>\n",
              "      <th>1</th>\n",
              "      <td>The Munchables</td>\n",
              "      <td>Wii</td>\n",
              "      <td>2009.0</td>\n",
              "      <td>Action</td>\n",
              "      <td>Namco Bandai Games</td>\n",
              "      <td>170000.0</td>\n",
              "      <td>0.0</td>\n",
              "      <td>0.0</td>\n",
              "      <td>10000.0</td>\n",
              "    </tr>\n",
              "    <tr>\n",
              "      <th>2</th>\n",
              "      <td>Otome wa Oanesama Boku ni Koi Shiteru Portable</td>\n",
              "      <td>PSP</td>\n",
              "      <td>2010.0</td>\n",
              "      <td>Adventure</td>\n",
              "      <td>Alchemist</td>\n",
              "      <td>0.0</td>\n",
              "      <td>0.0</td>\n",
              "      <td>20000.0</td>\n",
              "      <td>0.0</td>\n",
              "    </tr>\n",
              "    <tr>\n",
              "      <th>3</th>\n",
              "      <td>Deal or No Deal: Special Edition</td>\n",
              "      <td>DS</td>\n",
              "      <td>2010.0</td>\n",
              "      <td>Misc</td>\n",
              "      <td>Zoo Games</td>\n",
              "      <td>40000.0</td>\n",
              "      <td>0.0</td>\n",
              "      <td>0.0</td>\n",
              "      <td>0.0</td>\n",
              "    </tr>\n",
              "    <tr>\n",
              "      <th>4</th>\n",
              "      <td>Ben 10 Ultimate Alien: Cosmic Destruction</td>\n",
              "      <td>PS3</td>\n",
              "      <td>2010.0</td>\n",
              "      <td>Platform</td>\n",
              "      <td>D3Publisher</td>\n",
              "      <td>120000.0</td>\n",
              "      <td>90000.0</td>\n",
              "      <td>0.0</td>\n",
              "      <td>40000.0</td>\n",
              "    </tr>\n",
              "  </tbody>\n",
              "</table>\n",
              "</div>"
            ],
            "text/plain": [
              "                                             Name  ... Other_Sales\n",
              "0                    Candace Kane's Candy Factory  ...         0.0\n",
              "1                                  The Munchables  ...     10000.0\n",
              "2  Otome wa Oanesama Boku ni Koi Shiteru Portable  ...         0.0\n",
              "3                Deal or No Deal: Special Edition  ...         0.0\n",
              "4       Ben 10 Ultimate Alien: Cosmic Destruction  ...     40000.0\n",
              "\n",
              "[5 rows x 9 columns]"
            ]
          },
          "metadata": {},
          "execution_count": 9
        }
      ]
    },
    {
      "cell_type": "markdown",
      "metadata": {
        "id": "2omqu0eRE-g1"
      },
      "source": [
        "귀무가설: Action 장르의 북미 평균 판매량과 Misc 장르의 북미 평균 판매량은 같다.  \n",
        "대립가설: Action 장르의 북미 평균 판매량과 Misc 장르의 북미 평균 판매량은  같지 않다.  \n",
        "신뢰도: 95%"
      ]
    },
    {
      "cell_type": "markdown",
      "metadata": {
        "id": "c6DIiAFjfmug"
      },
      "source": [
        "- 장르의 개수가 많으므로, ANOVA를 시행하는 것이 적절해보인다."
      ]
    },
    {
      "cell_type": "markdown",
      "metadata": {
        "id": "ScqyzFF3HKH4"
      },
      "source": [
        "# ANOVA 예제\n"
      ]
    },
    {
      "cell_type": "code",
      "metadata": {
        "colab": {
          "base_uri": "https://localhost:8080/",
          "height": 351
        },
        "id": "izW10-RdHiJ1",
        "outputId": "1c529eec-bac4-4bfd-841d-9019e87bc7d3"
      },
      "source": [
        "a_df"
      ],
      "execution_count": 5,
      "outputs": [
        {
          "output_type": "execute_result",
          "data": {
            "text/html": [
              "<div>\n",
              "<style scoped>\n",
              "    .dataframe tbody tr th:only-of-type {\n",
              "        vertical-align: middle;\n",
              "    }\n",
              "\n",
              "    .dataframe tbody tr th {\n",
              "        vertical-align: top;\n",
              "    }\n",
              "\n",
              "    .dataframe thead th {\n",
              "        text-align: right;\n",
              "    }\n",
              "</style>\n",
              "<table border=\"1\" class=\"dataframe\">\n",
              "  <thead>\n",
              "    <tr style=\"text-align: right;\">\n",
              "      <th></th>\n",
              "      <th>A</th>\n",
              "      <th>B</th>\n",
              "      <th>C</th>\n",
              "      <th>D</th>\n",
              "    </tr>\n",
              "  </thead>\n",
              "  <tbody>\n",
              "    <tr>\n",
              "      <th>0</th>\n",
              "      <td>38</td>\n",
              "      <td>18</td>\n",
              "      <td>28</td>\n",
              "      <td>8</td>\n",
              "    </tr>\n",
              "    <tr>\n",
              "      <th>1</th>\n",
              "      <td>33</td>\n",
              "      <td>52</td>\n",
              "      <td>90</td>\n",
              "      <td>99</td>\n",
              "    </tr>\n",
              "    <tr>\n",
              "      <th>2</th>\n",
              "      <td>35</td>\n",
              "      <td>62</td>\n",
              "      <td>5</td>\n",
              "      <td>4</td>\n",
              "    </tr>\n",
              "    <tr>\n",
              "      <th>3</th>\n",
              "      <td>92</td>\n",
              "      <td>48</td>\n",
              "      <td>49</td>\n",
              "      <td>12</td>\n",
              "    </tr>\n",
              "    <tr>\n",
              "      <th>4</th>\n",
              "      <td>76</td>\n",
              "      <td>30</td>\n",
              "      <td>66</td>\n",
              "      <td>7</td>\n",
              "    </tr>\n",
              "    <tr>\n",
              "      <th>5</th>\n",
              "      <td>97</td>\n",
              "      <td>40</td>\n",
              "      <td>73</td>\n",
              "      <td>64</td>\n",
              "    </tr>\n",
              "    <tr>\n",
              "      <th>6</th>\n",
              "      <td>88</td>\n",
              "      <td>87</td>\n",
              "      <td>96</td>\n",
              "      <td>18</td>\n",
              "    </tr>\n",
              "    <tr>\n",
              "      <th>7</th>\n",
              "      <td>41</td>\n",
              "      <td>12</td>\n",
              "      <td>80</td>\n",
              "      <td>10</td>\n",
              "    </tr>\n",
              "    <tr>\n",
              "      <th>8</th>\n",
              "      <td>11</td>\n",
              "      <td>97</td>\n",
              "      <td>4</td>\n",
              "      <td>9</td>\n",
              "    </tr>\n",
              "    <tr>\n",
              "      <th>9</th>\n",
              "      <td>9</td>\n",
              "      <td>82</td>\n",
              "      <td>17</td>\n",
              "      <td>20</td>\n",
              "    </tr>\n",
              "  </tbody>\n",
              "</table>\n",
              "</div>"
            ],
            "text/plain": [
              "    A   B   C   D\n",
              "0  38  18  28   8\n",
              "1  33  52  90  99\n",
              "2  35  62   5   4\n",
              "3  92  48  49  12\n",
              "4  76  30  66   7\n",
              "5  97  40  73  64\n",
              "6  88  87  96  18\n",
              "7  41  12  80  10\n",
              "8  11  97   4   9\n",
              "9   9  82  17  20"
            ]
          },
          "metadata": {},
          "execution_count": 5
        }
      ]
    },
    {
      "cell_type": "markdown",
      "metadata": {
        "id": "WSnvK5m8H8jo"
      },
      "source": [
        "귀무가설: A, B, C, D 4개 그룹의 평균의 유의미한 차이가 있다고 보기 어렵다(같다).  \n",
        "대립가설: A, B, C, D 4개 그룹의 평균은 유의미한 차이가 있다(같지 않다)."
      ]
    },
    {
      "cell_type": "code",
      "metadata": {
        "id": "rkJc8XdME89B"
      },
      "source": [
        "import statsmodels.api as sm\n",
        "\n",
        "a_df = pd.DataFrame({\n",
        "    'A':[38, 33, 35, 92, 76, 97, 88, 41, 11, 9],\n",
        "    'B':[18, 52, 62, 48, 30, 40, 87, 12, 97, 82],\n",
        "    'C':[28, 90, 5, 49, 66, 73, 96, 80, 4, 17],\n",
        "    'D':[8, 99, 4, 12, 7, 64, 18, 10, 9, 20]\n",
        "    })\n",
        "a_df_melt = pd.melt(a_df.reset_index(), id_vars=['index'], value_vars=['A', 'B', 'C', 'D'])"
      ],
      "execution_count": 6,
      "outputs": []
    },
    {
      "cell_type": "code",
      "metadata": {
        "colab": {
          "base_uri": "https://localhost:8080/",
          "height": 502
        },
        "id": "C4Z7r1FzKhAc",
        "outputId": "9a520d33-1402-497b-c952-d1cac0ebfbf0"
      },
      "source": [
        "a_df_melt.head(15)"
      ],
      "execution_count": 14,
      "outputs": [
        {
          "output_type": "execute_result",
          "data": {
            "text/html": [
              "<div>\n",
              "<style scoped>\n",
              "    .dataframe tbody tr th:only-of-type {\n",
              "        vertical-align: middle;\n",
              "    }\n",
              "\n",
              "    .dataframe tbody tr th {\n",
              "        vertical-align: top;\n",
              "    }\n",
              "\n",
              "    .dataframe thead th {\n",
              "        text-align: right;\n",
              "    }\n",
              "</style>\n",
              "<table border=\"1\" class=\"dataframe\">\n",
              "  <thead>\n",
              "    <tr style=\"text-align: right;\">\n",
              "      <th></th>\n",
              "      <th>index</th>\n",
              "      <th>variable</th>\n",
              "      <th>value</th>\n",
              "    </tr>\n",
              "  </thead>\n",
              "  <tbody>\n",
              "    <tr>\n",
              "      <th>0</th>\n",
              "      <td>0</td>\n",
              "      <td>A</td>\n",
              "      <td>38</td>\n",
              "    </tr>\n",
              "    <tr>\n",
              "      <th>1</th>\n",
              "      <td>1</td>\n",
              "      <td>A</td>\n",
              "      <td>33</td>\n",
              "    </tr>\n",
              "    <tr>\n",
              "      <th>2</th>\n",
              "      <td>2</td>\n",
              "      <td>A</td>\n",
              "      <td>35</td>\n",
              "    </tr>\n",
              "    <tr>\n",
              "      <th>3</th>\n",
              "      <td>3</td>\n",
              "      <td>A</td>\n",
              "      <td>92</td>\n",
              "    </tr>\n",
              "    <tr>\n",
              "      <th>4</th>\n",
              "      <td>4</td>\n",
              "      <td>A</td>\n",
              "      <td>76</td>\n",
              "    </tr>\n",
              "    <tr>\n",
              "      <th>5</th>\n",
              "      <td>5</td>\n",
              "      <td>A</td>\n",
              "      <td>97</td>\n",
              "    </tr>\n",
              "    <tr>\n",
              "      <th>6</th>\n",
              "      <td>6</td>\n",
              "      <td>A</td>\n",
              "      <td>88</td>\n",
              "    </tr>\n",
              "    <tr>\n",
              "      <th>7</th>\n",
              "      <td>7</td>\n",
              "      <td>A</td>\n",
              "      <td>41</td>\n",
              "    </tr>\n",
              "    <tr>\n",
              "      <th>8</th>\n",
              "      <td>8</td>\n",
              "      <td>A</td>\n",
              "      <td>11</td>\n",
              "    </tr>\n",
              "    <tr>\n",
              "      <th>9</th>\n",
              "      <td>9</td>\n",
              "      <td>A</td>\n",
              "      <td>9</td>\n",
              "    </tr>\n",
              "    <tr>\n",
              "      <th>10</th>\n",
              "      <td>0</td>\n",
              "      <td>B</td>\n",
              "      <td>18</td>\n",
              "    </tr>\n",
              "    <tr>\n",
              "      <th>11</th>\n",
              "      <td>1</td>\n",
              "      <td>B</td>\n",
              "      <td>52</td>\n",
              "    </tr>\n",
              "    <tr>\n",
              "      <th>12</th>\n",
              "      <td>2</td>\n",
              "      <td>B</td>\n",
              "      <td>62</td>\n",
              "    </tr>\n",
              "    <tr>\n",
              "      <th>13</th>\n",
              "      <td>3</td>\n",
              "      <td>B</td>\n",
              "      <td>48</td>\n",
              "    </tr>\n",
              "    <tr>\n",
              "      <th>14</th>\n",
              "      <td>4</td>\n",
              "      <td>B</td>\n",
              "      <td>30</td>\n",
              "    </tr>\n",
              "  </tbody>\n",
              "</table>\n",
              "</div>"
            ],
            "text/plain": [
              "    index variable  value\n",
              "0       0        A     38\n",
              "1       1        A     33\n",
              "2       2        A     35\n",
              "3       3        A     92\n",
              "4       4        A     76\n",
              "5       5        A     97\n",
              "6       6        A     88\n",
              "7       7        A     41\n",
              "8       8        A     11\n",
              "9       9        A      9\n",
              "10      0        B     18\n",
              "11      1        B     52\n",
              "12      2        B     62\n",
              "13      3        B     48\n",
              "14      4        B     30"
            ]
          },
          "metadata": {},
          "execution_count": 14
        }
      ]
    },
    {
      "cell_type": "code",
      "metadata": {
        "colab": {
          "base_uri": "https://localhost:8080/",
          "height": 278
        },
        "id": "EByjQvNTKLGv",
        "outputId": "03e5dcee-25c7-4b9d-8bde-a5eeae248811"
      },
      "source": [
        "import matplotlib.pyplot as plt\n",
        "import seaborn as sns\n",
        "ax = sns.boxplot(x='variable', y='value', data=a_df_melt, color='#99c2a2')\n",
        "ax = sns.swarmplot(x=\"variable\", y=\"value\", data=a_df_melt, color='#7d0013')\n",
        "plt.show()"
      ],
      "execution_count": 11,
      "outputs": [
        {
          "output_type": "display_data",
          "data": {
            "image/png": "[encoded data removed]",
            "text/plain": [
              "<Figure size 432x288 with 1 Axes>"
            ]
          },
          "metadata": {
            "needs_background": "light"
          }
        }
      ]
    },
    {
      "cell_type": "code",
      "metadata": {
        "colab": {
          "base_uri": "https://localhost:8080/"
        },
        "id": "isfry-daKXmm",
        "outputId": "e4041205-46ed-4376-8a77-598a4b708a51"
      },
      "source": [
        "fvalue, pvalue = stats.f_oneway(a_df['A'], a_df['B'], a_df['C'], a_df['D'])\n",
        "print(fvalue, pvalue)"
      ],
      "execution_count": 7,
      "outputs": [
        {
          "output_type": "stream",
          "name": "stdout",
          "text": [
            "1.7249594239128412 0.17920877113948797\n"
          ]
        }
      ]
    },
    {
      "cell_type": "markdown",
      "metadata": {
        "id": "ny6J_T9_H7na"
      },
      "source": [
        "fvalue = 1.7249594239128412  \n",
        "pvalue = 0.17920877113948797"
      ]
    },
    {
      "cell_type": "markdown",
      "metadata": {
        "id": "wj7Yy04XHTdo"
      },
      "source": [
        "p-value 값이 유의수준(0.05)보다 크기 때문에, 귀무가설을 채택한다.  \n",
        "A, B, C, D 4개 그룹의 평균의 유의미한 차이가 있다고 보기는 어렵다."
      ]
    },
    {
      "cell_type": "code",
      "metadata": {
        "colab": {
          "base_uri": "https://localhost:8080/"
        },
        "id": "suX9qQZBLaTt",
        "outputId": "5ae420c6-7275-45af-dbc3-ef4045c069b6"
      },
      "source": [
        "a_df.mean()"
      ],
      "execution_count": 17,
      "outputs": [
        {
          "output_type": "execute_result",
          "data": {
            "text/plain": [
              "A    52.0\n",
              "B    52.8\n",
              "C    50.8\n",
              "D    25.1\n",
              "dtype: float64"
            ]
          },
          "metadata": {},
          "execution_count": 17
        }
      ]
    },
    {
      "cell_type": "code",
      "metadata": {
        "colab": {
          "base_uri": "https://localhost:8080/"
        },
        "id": "cqBPALsbLuhQ",
        "outputId": "c0ff9440-23e4-4b3b-956f-42d552365bc6"
      },
      "source": [
        "np.mean([38, 33, 35, 92, 76, 97, 88, 41, 11, 9])"
      ],
      "execution_count": 20,
      "outputs": [
        {
          "output_type": "execute_result",
          "data": {
            "text/plain": [
              "52.0"
            ]
          },
          "metadata": {},
          "execution_count": 20
        }
      ]
    },
    {
      "cell_type": "markdown",
      "metadata": {
        "id": "poeSKVurJxqy"
      },
      "source": [
        "# ANOVA 적용"
      ]
    },
    {
      "cell_type": "code",
      "metadata": {
        "colab": {
          "base_uri": "https://localhost:8080/",
          "height": 441
        },
        "id": "C1QSZl1_Hjql",
        "outputId": "c57272fa-92c8-46b0-e9bd-587e0a312cd5"
      },
      "source": [
        "df = pd.read_csv('df.csv', index_col=0)\n",
        "df.drop('Year',axis=1).groupby('Genre').sum()"
      ],
      "execution_count": 41,
      "outputs": [
        {
          "output_type": "execute_result",
          "data": {
            "text/html": [
              "<div>\n",
              "<style scoped>\n",
              "    .dataframe tbody tr th:only-of-type {\n",
              "        vertical-align: middle;\n",
              "    }\n",
              "\n",
              "    .dataframe tbody tr th {\n",
              "        vertical-align: top;\n",
              "    }\n",
              "\n",
              "    .dataframe thead th {\n",
              "        text-align: right;\n",
              "    }\n",
              "</style>\n",
              "<table border=\"1\" class=\"dataframe\">\n",
              "  <thead>\n",
              "    <tr style=\"text-align: right;\">\n",
              "      <th></th>\n",
              "      <th>NA_Sales</th>\n",
              "      <th>EU_Sales</th>\n",
              "      <th>JP_Sales</th>\n",
              "      <th>Other_Sales</th>\n",
              "    </tr>\n",
              "    <tr>\n",
              "      <th>Genre</th>\n",
              "      <th></th>\n",
              "      <th></th>\n",
              "      <th></th>\n",
              "      <th></th>\n",
              "    </tr>\n",
              "  </thead>\n",
              "  <tbody>\n",
              "    <tr>\n",
              "      <th>Action</th>\n",
              "      <td>858750000.0</td>\n",
              "      <td>513640000.0</td>\n",
              "      <td>156600000.0</td>\n",
              "      <td>183990000.0</td>\n",
              "    </tr>\n",
              "    <tr>\n",
              "      <th>Adventure</th>\n",
              "      <td>101790000.0</td>\n",
              "      <td>63660000.0</td>\n",
              "      <td>51870000.0</td>\n",
              "      <td>16700000.0</td>\n",
              "    </tr>\n",
              "    <tr>\n",
              "      <th>Fighting</th>\n",
              "      <td>220350000.0</td>\n",
              "      <td>99900000.0</td>\n",
              "      <td>87140000.0</td>\n",
              "      <td>36150000.0</td>\n",
              "    </tr>\n",
              "    <tr>\n",
              "      <th>Misc</th>\n",
              "      <td>394730000.0</td>\n",
              "      <td>208150000.0</td>\n",
              "      <td>104180000.0</td>\n",
              "      <td>72640000.0</td>\n",
              "    </tr>\n",
              "    <tr>\n",
              "      <th>Platform</th>\n",
              "      <td>445380000.0</td>\n",
              "      <td>200630000.0</td>\n",
              "      <td>130530000.0</td>\n",
              "      <td>51450000.0</td>\n",
              "    </tr>\n",
              "    <tr>\n",
              "      <th>Puzzle</th>\n",
              "      <td>121580000.0</td>\n",
              "      <td>50470000.0</td>\n",
              "      <td>56240000.0</td>\n",
              "      <td>12440000.0</td>\n",
              "    </tr>\n",
              "    <tr>\n",
              "      <th>Racing</th>\n",
              "      <td>354700000.0</td>\n",
              "      <td>235020000.0</td>\n",
              "      <td>56320000.0</td>\n",
              "      <td>76510000.0</td>\n",
              "    </tr>\n",
              "    <tr>\n",
              "      <th>Role-Playing</th>\n",
              "      <td>318760000.0</td>\n",
              "      <td>183090000.0</td>\n",
              "      <td>342930000.0</td>\n",
              "      <td>56730000.0</td>\n",
              "    </tr>\n",
              "    <tr>\n",
              "      <th>Shooter</th>\n",
              "      <td>574480000.0</td>\n",
              "      <td>310230000.0</td>\n",
              "      <td>38180000.0</td>\n",
              "      <td>101860000.0</td>\n",
              "    </tr>\n",
              "    <tr>\n",
              "      <th>Simulation</th>\n",
              "      <td>181430000.0</td>\n",
              "      <td>112990000.0</td>\n",
              "      <td>63540000.0</td>\n",
              "      <td>31320000.0</td>\n",
              "    </tr>\n",
              "    <tr>\n",
              "      <th>Sports</th>\n",
              "      <td>667260000.0</td>\n",
              "      <td>370970000.0</td>\n",
              "      <td>134760000.0</td>\n",
              "      <td>132350000.0</td>\n",
              "    </tr>\n",
              "    <tr>\n",
              "      <th>Strategy</th>\n",
              "      <td>67830000.0</td>\n",
              "      <td>44820000.0</td>\n",
              "      <td>49100000.0</td>\n",
              "      <td>11230000.0</td>\n",
              "    </tr>\n",
              "  </tbody>\n",
              "</table>\n",
              "</div>"
            ],
            "text/plain": [
              "                 NA_Sales     EU_Sales     JP_Sales  Other_Sales\n",
              "Genre                                                           \n",
              "Action        858750000.0  513640000.0  156600000.0  183990000.0\n",
              "Adventure     101790000.0   63660000.0   51870000.0   16700000.0\n",
              "Fighting      220350000.0   99900000.0   87140000.0   36150000.0\n",
              "Misc          394730000.0  208150000.0  104180000.0   72640000.0\n",
              "Platform      445380000.0  200630000.0  130530000.0   51450000.0\n",
              "Puzzle        121580000.0   50470000.0   56240000.0   12440000.0\n",
              "Racing        354700000.0  235020000.0   56320000.0   76510000.0\n",
              "Role-Playing  318760000.0  183090000.0  342930000.0   56730000.0\n",
              "Shooter       574480000.0  310230000.0   38180000.0  101860000.0\n",
              "Simulation    181430000.0  112990000.0   63540000.0   31320000.0\n",
              "Sports        667260000.0  370970000.0  134760000.0  132350000.0\n",
              "Strategy       67830000.0   44820000.0   49100000.0   11230000.0"
            ]
          },
          "metadata": {},
          "execution_count": 41
        }
      ]
    },
    {
      "cell_type": "markdown",
      "metadata": {
        "id": "3rtRl4wqPK9j"
      },
      "source": [
        "귀무가설: NA_Sales, EU_Sales, JP_Sales, Other_Sales 4개 그룹의 평균은 유의미한 차이가 있다고 보기 어렵다(같다).  \n",
        "대립가설: NA_Sales, EU_Sales, JP_Sales, Other_Sales 4개 그룹의 평균은 유의미한 차이가 있다(같지 않다)."
      ]
    },
    {
      "cell_type": "markdown",
      "metadata": {
        "id": "a7_bCDkjRS1D"
      },
      "source": [
        "- 평균이라는 것은 이 지역에서 장르를 종합하여 계산했을때, 평균적으로 장르 구분없이 이정도 판매되었다는 것을 말한다.  \n",
        "- 예를들어 북미 그룹은 8억5천만개의 액션장르, 1억 1백7십9만 개의 어드벤처 누적 판매량, 그외 다른 장르 별로 누적 판매량을 가졌다. 이 판매량을 모두 합하여, 장르의 개수(12개)로 나눠주면 북미지역에서 장르의 통상적인 평균 누적 판매량이 나온다. 이 수치는 358,920,000(3억 5천8백9십2만)개이다.  \n",
        "- 다른 그룹의 평균도 구해보면, 유럽은 1억9천9백4십6만4천2백개, 일본은 1억5백9십4만9천2백개, 기타지역은 6억5천2백8십만8천3백개이다.  \n",
        "- 따라서, 4개 그룹의 평균은 유의미한 차이가 있다(같지 않다).\n",
        "- 일원분산분석 수행 결과를 예상해보자면, 귀무가설을 기각하고 대립가설을 채택해야 한다.\n",
        "- p-value는 0.05보다 작아야 한다."
      ]
    },
    {
      "cell_type": "code",
      "metadata": {
        "id": "XfuZdsDSOBib"
      },
      "source": [
        "df_melt = pd.melt(df.reset_index(), id_vars=['Genre'], value_vars=['NA_Sales','EU_Sales', 'JP_Sales', 'Other_Sales'])"
      ],
      "execution_count": 42,
      "outputs": []
    },
    {
      "cell_type": "code",
      "metadata": {
        "id": "SOS7yhZ0OrZG"
      },
      "source": [
        "fvalue, pvalue = stats.f_oneway(df['NA_Sales'], df['EU_Sales'], df['JP_Sales'], df['Other_Sales'])"
      ],
      "execution_count": 39,
      "outputs": []
    },
    {
      "cell_type": "code",
      "metadata": {
        "colab": {
          "base_uri": "https://localhost:8080/"
        },
        "id": "cFhM0MOIcFdQ",
        "outputId": "0a6cc7e3-9e53-4c79-8559-76130c50436e"
      },
      "source": [
        "print('games 데이터의 일원분산분석 결과 : F={0:.1f}, p={1:.10f}'.format(fvalue, pvalue))\n",
        "if pvalue < 0.05:\n",
        "    print('P-value 값이 충분히 작음으로, 4개 지역 그룹의 평균값이 통계적으로 유의미하게 차이난다.')"
      ],
      "execution_count": 40,
      "outputs": [
        {
          "output_type": "stream",
          "name": "stdout",
          "text": [
            "games 데이터의 일원분산분석 결과 : F=565.5, p=0.0000000000\n",
            "P-value 값이 충분히 작음으로, 4개 지역 그룹의 평균값이 통계적으로 유의미하게 차이난다.\n"
          ]
        }
      ]
    },
    {
      "cell_type": "markdown",
      "metadata": {
        "id": "XMYCzwyqfeY8"
      },
      "source": [
        "#### 분석 과정 중 시도해본 것들"
      ]
    },
    {
      "cell_type": "markdown",
      "metadata": {
        "id": "4BB2zRYSbVT9"
      },
      "source": [
        "- df_melt 행의 수(64964 rows)가 너무 많아 시각화는 어렵다 "
      ]
    },
    {
      "cell_type": "code",
      "metadata": {
        "colab": {
          "base_uri": "https://localhost:8080/",
          "height": 291
        },
        "id": "k7XykxWqOjKR",
        "outputId": "2a621045-290f-4eba-ed9b-148ef9502001"
      },
      "source": [
        "ax = sns.boxplot(x='variable', y='value', data=df_melt, color='#99c2a2')\n",
        "plt.show()"
      ],
      "execution_count": 26,
      "outputs": [
        {
          "output_type": "display_data",
          "data": {
            "image/png": "[encoded data removed]",
            "text/plain": [
              "<Figure size 432x288 with 1 Axes>"
            ]
          },
          "metadata": {
            "needs_background": "light"
          }
        }
      ]
    },
    {
      "cell_type": "markdown",
      "metadata": {
        "id": "qv4JbPDiaMVQ"
      },
      "source": [
        "- 단위를 쉽게 읽기위해 M단위(나누기1,000,000)로 바꿔보았다.\n",
        "- 결과는 같다."
      ]
    },
    {
      "cell_type": "code",
      "metadata": {
        "colab": {
          "base_uri": "https://localhost:8080/"
        },
        "id": "ao94wi_zaafu",
        "outputId": "a2fe35da-1418-4e7a-9867-859a14cafebc"
      },
      "source": [
        "df.iloc[:,-4:] = df.iloc[:,-4:]/1000000\n",
        "df_melt = pd.melt(df.reset_index(), id_vars=['Genre'], value_vars=['NA_Sales','EU_Sales', 'JP_Sales', 'Other_Sales'])\n",
        "fvalue, pvalue = stats.f_oneway(df['NA_Sales'], df['EU_Sales'], df['JP_Sales'], df['Other_Sales'])\n",
        "print(fvalue, pvalue)"
      ],
      "execution_count": 29,
      "outputs": [
        {
          "output_type": "stream",
          "name": "stdout",
          "text": [
            "565.496803722431 0.0\n"
          ]
        }
      ]
    },
    {
      "cell_type": "code",
      "metadata": {
        "id": "XHWB3apicxrM"
      },
      "source": [
        ""
      ],
      "execution_count": null,
      "outputs": []
    }
  ]
}